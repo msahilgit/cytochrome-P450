{
 "cells": [
  {
   "cell_type": "code",
   "execution_count": 1,
   "id": "913c7d18",
   "metadata": {},
   "outputs": [],
   "source": [
    "import numpy as np"
   ]
  },
  {
   "cell_type": "code",
   "execution_count": null,
   "id": "cee68f04",
   "metadata": {},
   "outputs": [],
   "source": []
  },
  {
   "cell_type": "code",
   "execution_count": null,
   "id": "434bdcf9",
   "metadata": {},
   "outputs": [],
   "source": []
  },
  {
   "cell_type": "code",
   "execution_count": 6,
   "id": "474eebfa",
   "metadata": {},
   "outputs": [],
   "source": [
    "np.random.seed(0)\n",
    "prob = 1\n",
    "indices = [33,41,49]\n",
    "region=0  # either 0 or 2\n",
    "ofile = open(f'd{prob}_r{region}_3l63.pdb', 'w')\n",
    "\n",
    "for line in open('3l63.pdb','r'):\n",
    "    if line[:6] in ['ATOM  ', 'HETATM']:\n",
    "        if np.random.random() < prob:\n",
    "            ind = indices[np.random.randint(0,3)]+region\n",
    "            line = line[:ind] + str(np.random.randint(0,10)) + line[ind+1:]\n",
    "    ofile.write(line)\n",
    "        \n",
    "ofile.close()"
   ]
  },
  {
   "cell_type": "code",
   "execution_count": null,
   "id": "5fe84424",
   "metadata": {},
   "outputs": [],
   "source": []
  },
  {
   "cell_type": "code",
   "execution_count": 7,
   "id": "c1f84a54",
   "metadata": {},
   "outputs": [],
   "source": [
    "np.random.seed(0)\n",
    "prob = 0.5\n",
    "indices = [33,41,49]\n",
    "region=0  # either 0 or 2\n",
    "ofile = open(f'd{prob}_r{region}_3l63.pdb', 'w')\n",
    "\n",
    "for line in open('3l63.pdb','r'):\n",
    "    if line[:6] in ['ATOM  ', 'HETATM']:\n",
    "        if np.random.random() < prob:\n",
    "            ind = indices[np.random.randint(0,3)]+region\n",
    "            line = line[:ind] + str(np.random.randint(0,10)) + line[ind+1:]\n",
    "    ofile.write(line)\n",
    "        \n",
    "ofile.close()"
   ]
  },
  {
   "cell_type": "code",
   "execution_count": null,
   "id": "33b34f6c",
   "metadata": {},
   "outputs": [],
   "source": []
  },
  {
   "cell_type": "code",
   "execution_count": 8,
   "id": "99b67bef",
   "metadata": {},
   "outputs": [],
   "source": [
    "np.random.seed(0)\n",
    "prob = 0.1\n",
    "indices = [33,41,49]\n",
    "region=0  # either 0 or 2\n",
    "ofile = open(f'd{prob}_r{region}_3l63.pdb', 'w')\n",
    "\n",
    "for line in open('3l63.pdb','r'):\n",
    "    if line[:6] in ['ATOM  ', 'HETATM']:\n",
    "        if np.random.random() < prob:\n",
    "            ind = indices[np.random.randint(0,3)]+region\n",
    "            line = line[:ind] + str(np.random.randint(0,10)) + line[ind+1:]\n",
    "    ofile.write(line)\n",
    "        \n",
    "ofile.close()"
   ]
  },
  {
   "cell_type": "code",
   "execution_count": null,
   "id": "d0c6acd3",
   "metadata": {},
   "outputs": [],
   "source": []
  },
  {
   "cell_type": "code",
   "execution_count": null,
   "id": "616a8814",
   "metadata": {},
   "outputs": [],
   "source": []
  },
  {
   "cell_type": "code",
   "execution_count": 9,
   "id": "e8ff273d",
   "metadata": {},
   "outputs": [],
   "source": [
    "np.random.seed(0)\n",
    "prob = 1\n",
    "indices = [33,41,49]\n",
    "region=2  # either 0 or 2\n",
    "ofile = open(f'd{prob}_r{region}_3l63.pdb', 'w')\n",
    "\n",
    "for line in open('3l63.pdb','r'):\n",
    "    if line[:6] in ['ATOM  ', 'HETATM']:\n",
    "        if np.random.random() < prob:\n",
    "            ind = indices[np.random.randint(0,3)]+region\n",
    "            line = line[:ind] + str(np.random.randint(0,10)) + line[ind+1:]\n",
    "    ofile.write(line)\n",
    "        \n",
    "ofile.close()"
   ]
  },
  {
   "cell_type": "code",
   "execution_count": null,
   "id": "4b062765",
   "metadata": {},
   "outputs": [],
   "source": []
  },
  {
   "cell_type": "code",
   "execution_count": null,
   "id": "2c640be9",
   "metadata": {},
   "outputs": [],
   "source": []
  },
  {
   "cell_type": "code",
   "execution_count": 2,
   "id": "afb46ec2",
   "metadata": {},
   "outputs": [],
   "source": [
    "resi = np.loadtxt('../0_data_from_ubbink/static_exp_closed_HN.npc', dtype=str)[:,0]"
   ]
  },
  {
   "cell_type": "code",
   "execution_count": 7,
   "id": "ccc17555",
   "metadata": {},
   "outputs": [],
   "source": [
    "np.random.seed(0)\n",
    "prob = 0.1\n",
    "indices = [33,41,49]\n",
    "region=0  # either 0 or 2\n",
    "ofile = open(f'd{prob}_r{region}_3l63.pdb', 'w')\n",
    "\n",
    "for line in open('3l63.pdb','r'):\n",
    "    items = line.strip().split()\n",
    "    if line[:6] in ['ATOM  ', 'HETATM']:\n",
    "        if items[2] == 'HN' and items[5] in resi:\n",
    "            if np.random.random() < prob:\n",
    "                ind = indices[np.random.randint(0,3)]+region\n",
    "                line = line[:ind] + str(np.random.randint(0,10)) + line[ind+1:]\n",
    "    ofile.write(line)\n",
    "        \n",
    "ofile.close()"
   ]
  },
  {
   "cell_type": "code",
   "execution_count": null,
   "id": "63fb3df9",
   "metadata": {},
   "outputs": [],
   "source": []
  },
  {
   "cell_type": "code",
   "execution_count": null,
   "id": "1051b27a",
   "metadata": {},
   "outputs": [],
   "source": []
  },
  {
   "cell_type": "code",
   "execution_count": null,
   "id": "8cf1f465",
   "metadata": {},
   "outputs": [],
   "source": []
  },
  {
   "cell_type": "code",
   "execution_count": null,
   "id": "53d84101",
   "metadata": {},
   "outputs": [],
   "source": []
  }
 ],
 "metadata": {
  "kernelspec": {
   "display_name": "Python 3 (ipykernel)",
   "language": "python",
   "name": "python3"
  },
  "language_info": {
   "codemirror_mode": {
    "name": "ipython",
    "version": 3
   },
   "file_extension": ".py",
   "mimetype": "text/x-python",
   "name": "python",
   "nbconvert_exporter": "python",
   "pygments_lexer": "ipython3",
   "version": "3.9.7"
  }
 },
 "nbformat": 4,
 "nbformat_minor": 5
}
