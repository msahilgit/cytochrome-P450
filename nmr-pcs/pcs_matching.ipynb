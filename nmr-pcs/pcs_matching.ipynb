{
 "cells": [
  {
   "cell_type": "code",
   "execution_count": 1,
   "id": "f696587a",
   "metadata": {},
   "outputs": [],
   "source": [
    "import numpy as np\n",
    "from paramagpy import protein, dataparse, fit, metal\n",
    "import matplotlib as mt\n",
    "import copy as c\n",
    "import matplotlib.pyplot as plt\n",
    "from scipy.optimize import curve_fit as cf\n",
    "import scipy.stats as sct\n",
    "from tqdm import tqdm\n",
    "import multiprocessing\n",
    "import warnings\n",
    "from Bio import PDB\n",
    "from Bio.PDB.PDBExceptions import PDBConstructionWarning\n",
    "warnings.simplefilter('ignore', PDBConstructionWarning)\n",
    "from sklearn.model_selection import train_test_split as splt"
   ]
  },
  {
   "cell_type": "code",
   "execution_count": null,
   "id": "c49485c1",
   "metadata": {},
   "outputs": [],
   "source": []
  },
  {
   "cell_type": "code",
   "execution_count": 2,
   "id": "1936f195",
   "metadata": {},
   "outputs": [],
   "source": [
    "def get_pcs(path, fr, pcs):\n",
    "    coords = protein.load_pdb(f'{path}/fr{fr}.pdb')\n",
    "    parsed = coords.parse(pcs)\n",
    "    mstart = metal.Metal()\n",
    "    mstart.position = coords[0]['A'][195]['CA'].position\n",
    "    [guess], [data] = fit.svd_gridsearch_fit_metal_from_pcs([mstart], [parsed], \n",
    "                                                            radius=10, points=10, verbose=False)\n",
    "    [mfit], [data] = fit.nlr_fit_metal_from_pcs([guess], [parsed])\n",
    "    return data['cal']\n",
    "\n",
    "def get_ranges(nobs, ncpus):\n",
    "    starts = np.arange(0, nobs, nobs//ncpus)[:-1]\n",
    "    ends = np.empty((ncpus))\n",
    "    ends[:-1] = starts[1:]\n",
    "    ends[-1] = nobs\n",
    "    return starts.astype(int), ends.astype(int)"
   ]
  },
  {
   "cell_type": "markdown",
   "id": "150ee75e",
   "metadata": {},
   "source": [
    "## HN "
   ]
  },
  {
   "cell_type": "code",
   "execution_count": 4,
   "id": "ef919b9e",
   "metadata": {},
   "outputs": [],
   "source": [
    "dists_ = np.load('saved_pcs/2_output_files/dists_static.npy')\n",
    "frames = np.where(np.sum((dists_>=5.5) & (dists_<=10.5), axis=1)==2)[0]\n",
    "pcs = dataparse.read_pcs('saved_pcs/0_data_from_ubbink/static_exp_closed_HN.npc')\n",
    "\n",
    "prefix = 'saved_pcs/1_frames_individual/fr'\n",
    "suffix = '.pdb'\n",
    "\n",
    "nobs = len(frames)\n",
    "npcs = len(pcs)\n",
    "ncpus = 16\n",
    "\n",
    "def worker(start, end, sa1):\n",
    "    for a in range(start,end):\n",
    "        coords = protein.load_pdb(f'{prefix}{frames[a]}{suffix}')\n",
    "        parsed = coords.parse(pcs)\n",
    "        mstart = metal.Metal()\n",
    "        mstart.position = coords[0]['A'][195]['CA'].position\n",
    "        [guess], [data] = fit.svd_gridsearch_fit_metal_from_pcs([mstart], [parsed], \n",
    "                                                                radius=10, points=10, verbose=False)\n",
    "        [mfit], [data] = fit.nlr_fit_metal_from_pcs([guess], [parsed])\n",
    "        #\n",
    "        sa1[a*npcs:(a+1)*npcs] = data['cal']\n",
    "        #\n",
    "\n",
    "if __name__ == '__main__':\n",
    "    starts, ends = get_ranges(nobs, ncpus)\n",
    "    #\n",
    "    sa1 = multiprocessing.Array('d', nobs*len(pcs))\n",
    "    #\n",
    "    processes = []\n",
    "    for job in range(ncpus):\n",
    "        p = multiprocessing.Process(target=worker, \n",
    "                                    args=(starts[job], ends[job], sa1),\n",
    "                                   )\n",
    "        processes.append(p)\n",
    "        p.start()\n",
    "    #\n",
    "    for p in processes:\n",
    "        p.join()\n",
    "    #\n",
    "    cal = np.frombuffer(sa1.get_obj())"
   ]
  },
  {
   "cell_type": "code",
   "execution_count": 10,
   "id": "ef63bcee",
   "metadata": {},
   "outputs": [],
   "source": [
    "means = cal.reshape(nobs,npcs)\n",
    "stds = np.mean(np.square(means), axis=0)\n",
    "means = np.mean(means, axis=0)\n",
    "stds = stds - np.square(means)"
   ]
  },
  {
   "cell_type": "code",
   "execution_count": 22,
   "id": "79329195",
   "metadata": {},
   "outputs": [],
   "source": [
    "np.save('saved_pcs/2_output_files/means_HN.npy', means)\n",
    "np.save('saved_pcs/2_output_files/stds_HN.npy', stds)"
   ]
  },
  {
   "cell_type": "code",
   "execution_count": 18,
   "id": "507a40ab",
   "metadata": {},
   "outputs": [
    {
     "data": {
      "text/plain": [
       "[<matplotlib.lines.Line2D at 0x2ac58d0d1130>]"
      ]
     },
     "execution_count": 18,
     "metadata": {},
     "output_type": "execute_result"
    },
    {
     "data": {
      "image/png": "[encoded data removed]",
      "text/plain": [
       "<Figure size 432x288 with 1 Axes>"
      ]
     },
     "metadata": {
      "needs_background": "light"
     },
     "output_type": "display_data"
    }
   ],
   "source": [
    "plt.scatter(np.array(list(pcs.values()))[:,0], means)\n",
    "plt.plot([-0.2,0.44], [-0.2,0.44])"
   ]
  },
  {
   "cell_type": "code",
   "execution_count": null,
   "id": "bd27e707",
   "metadata": {},
   "outputs": [],
   "source": []
  },
  {
   "cell_type": "code",
   "execution_count": null,
   "id": "83327ec7",
   "metadata": {},
   "outputs": [],
   "source": []
  },
  {
   "cell_type": "markdown",
   "id": "b4524210",
   "metadata": {},
   "source": [
    "## N-H substrate free"
   ]
  },
  {
   "cell_type": "code",
   "execution_count": 23,
   "id": "a56637d4",
   "metadata": {},
   "outputs": [
    {
     "name": "stdout",
     "output_type": "stream",
     "text": [
      "Line ignored while reading file: saved_pcs/0_data_from_ubbink/observed_pcs_substrate-free_errors.npc\n",
      "134 N \n",
      "\n",
      "Line ignored while reading file: saved_pcs/0_data_from_ubbink/observed_pcs_substrate-free_errors.npc\n",
      "289 N \n",
      "\n"
     ]
    }
   ],
   "source": [
    "dists_ = np.load('saved_pcs/2_output_files/dists_substrate-free.npy')\n",
    "frames = np.where(np.sum((dists_>=5.5) & (dists_<=10.5), axis=1)==2)[0]\n",
    "pcs = dataparse.read_pcs('saved_pcs/0_data_from_ubbink/observed_pcs_substrate-free_errors.npc')\n",
    "\n",
    "prefix = 'saved_pcs/1_frames_individual/fr'\n",
    "suffix = '.pdb'\n",
    "\n",
    "nobs = len(frames)\n",
    "npcs = len(pcs)\n",
    "ncpus = 24\n",
    "\n",
    "def worker(start, end, sa1):\n",
    "    for a in range(start,end):\n",
    "        coords = protein.load_pdb(f'{prefix}{frames[a]}{suffix}')\n",
    "        parsed = coords.parse(pcs)\n",
    "        mstart = metal.Metal()\n",
    "        mstart.position = coords[0]['A'][195]['CA'].position\n",
    "        [guess], [data] = fit.svd_gridsearch_fit_metal_from_pcs([mstart], [parsed], \n",
    "                                                                radius=10, points=10, verbose=False)\n",
    "        [mfit], [data] = fit.nlr_fit_metal_from_pcs([guess], [parsed])\n",
    "        #\n",
    "        sa1[a*npcs:(a+1)*npcs] = data['cal']\n",
    "        #\n",
    "\n",
    "if __name__ == '__main__':\n",
    "    starts, ends = get_ranges(nobs, ncpus)\n",
    "    #\n",
    "    sa1 = multiprocessing.Array('d', nobs*len(pcs))\n",
    "    #\n",
    "    processes = []\n",
    "    for job in range(ncpus):\n",
    "        p = multiprocessing.Process(target=worker, \n",
    "                                    args=(starts[job], ends[job], sa1),\n",
    "                                   )\n",
    "        processes.append(p)\n",
    "        p.start()\n",
    "    #\n",
    "    for p in processes:\n",
    "        p.join()\n",
    "    #\n",
    "    cal = np.frombuffer(sa1.get_obj())\n",
    "    \n",
    "means = cal.reshape(nobs,npcs)\n",
    "stds = np.mean(np.square(means), axis=0)\n",
    "means = np.mean(means, axis=0)\n",
    "stds = stds - np.square(means)"
   ]
  },
  {
   "cell_type": "code",
   "execution_count": 24,
   "id": "ba5f7cfc",
   "metadata": {},
   "outputs": [],
   "source": [
    "np.save('saved_pcs/2_output_files/means_substrate-free.npy', means)\n",
    "np.save('saved_pcs/2_output_files/stds_substrate-free.npy', stds)"
   ]
  },
  {
   "cell_type": "code",
   "execution_count": 26,
   "id": "f6303332",
   "metadata": {},
   "outputs": [
    {
     "data": {
      "text/plain": [
       "[<matplotlib.lines.Line2D at 0x2ac58d88eca0>]"
      ]
     },
     "execution_count": 26,
     "metadata": {},
     "output_type": "execute_result"
    },
    {
     "data": {
      "image/png": "[encoded data removed]",
      "text/plain": [
       "<Figure size 432x288 with 1 Axes>"
      ]
     },
     "metadata": {
      "needs_background": "light"
     },
     "output_type": "display_data"
    }
   ],
   "source": [
    "plt.scatter(np.array(list(pcs.values()))[:,0], means)\n",
    "plt.plot([-0.1,0.2], [-0.1,0.2])"
   ]
  },
  {
   "cell_type": "code",
   "execution_count": null,
   "id": "458b9d34",
   "metadata": {},
   "outputs": [],
   "source": []
  },
  {
   "cell_type": "markdown",
   "id": "73bb99c7",
   "metadata": {},
   "source": [
    "## +cam"
   ]
  },
  {
   "cell_type": "code",
   "execution_count": 27,
   "id": "aa22aa55",
   "metadata": {},
   "outputs": [],
   "source": [
    "dists_ = np.load('saved_pcs/2_output_files/dists_with_cam.npy')\n",
    "frames = np.where(np.sum((dists_>=5.5) & (dists_<=10.5), axis=1)==2)[0]\n",
    "pcs = dataparse.read_pcs('saved_pcs/0_data_from_ubbink/observed_pcs_with_cam_errors.npc')\n",
    "\n",
    "prefix = 'saved_pcs/1_frames_individual/fr'\n",
    "suffix = '.pdb'\n",
    "\n",
    "nobs = len(frames)\n",
    "npcs = len(pcs)\n",
    "ncpus = 24\n",
    "\n",
    "def worker(start, end, sa1):\n",
    "    for a in range(start,end):\n",
    "        coords = protein.load_pdb(f'{prefix}{frames[a]}{suffix}')\n",
    "        parsed = coords.parse(pcs)\n",
    "        mstart = metal.Metal()\n",
    "        mstart.position = coords[0]['A'][195]['CA'].position\n",
    "        [guess], [data] = fit.svd_gridsearch_fit_metal_from_pcs([mstart], [parsed], \n",
    "                                                                radius=10, points=10, verbose=False)\n",
    "        [mfit], [data] = fit.nlr_fit_metal_from_pcs([guess], [parsed])\n",
    "        #\n",
    "        sa1[a*npcs:(a+1)*npcs] = data['cal']\n",
    "        #\n",
    "\n",
    "if __name__ == '__main__':\n",
    "    starts, ends = get_ranges(nobs, ncpus)\n",
    "    #\n",
    "    sa1 = multiprocessing.Array('d', nobs*len(pcs))\n",
    "    #\n",
    "    processes = []\n",
    "    for job in range(ncpus):\n",
    "        p = multiprocessing.Process(target=worker, \n",
    "                                    args=(starts[job], ends[job], sa1),\n",
    "                                   )\n",
    "        processes.append(p)\n",
    "        p.start()\n",
    "    #\n",
    "    for p in processes:\n",
    "        p.join()\n",
    "    #\n",
    "    cal = np.frombuffer(sa1.get_obj())\n",
    "    \n",
    "means = cal.reshape(nobs,npcs)\n",
    "stds = np.mean(np.square(means), axis=0)\n",
    "means = np.mean(means, axis=0)\n",
    "stds = stds - np.square(means)"
   ]
  },
  {
   "cell_type": "code",
   "execution_count": 28,
   "id": "b3d5ae6a",
   "metadata": {},
   "outputs": [],
   "source": [
    "np.save('saved_pcs/2_output_files/means_with_cam.npy', means)\n",
    "np.save('saved_pcs/2_output_files/stds_with_cam.npy', stds)"
   ]
  },
  {
   "cell_type": "code",
   "execution_count": 29,
   "id": "c8db64d8",
   "metadata": {},
   "outputs": [
    {
     "data": {
      "text/plain": [
       "[<matplotlib.lines.Line2D at 0x2ac58cde6310>]"
      ]
     },
     "execution_count": 29,
     "metadata": {},
     "output_type": "execute_result"
    },
    {
     "data": {
      "image/png": "[encoded data removed]",
      "text/plain": [
       "<Figure size 432x288 with 1 Axes>"
      ]
     },
     "metadata": {
      "needs_background": "light"
     },
     "output_type": "display_data"
    }
   ],
   "source": [
    "plt.scatter(np.array(list(pcs.values()))[:,0], means)\n",
    "plt.plot([-0.1,0.2], [-0.1,0.2])"
   ]
  },
  {
   "cell_type": "code",
   "execution_count": null,
   "id": "30c014d2",
   "metadata": {},
   "outputs": [],
   "source": []
  },
  {
   "cell_type": "code",
   "execution_count": null,
   "id": "e6f1c017",
   "metadata": {},
   "outputs": [],
   "source": []
  },
  {
   "cell_type": "markdown",
   "id": "2a4a0580",
   "metadata": {},
   "source": [
    "## +pdx"
   ]
  },
  {
   "cell_type": "code",
   "execution_count": 30,
   "id": "5a21932c",
   "metadata": {},
   "outputs": [],
   "source": [
    "dists_ = np.load('saved_pcs/2_output_files/dists_with_pdx.npy')\n",
    "frames = np.where(np.sum((dists_>=5.5) & (dists_<=10.5), axis=1)==2)[0]\n",
    "pcs = dataparse.read_pcs('saved_pcs/0_data_from_ubbink/observed_pcs_with_cam_pdx_errors.npc')\n",
    "\n",
    "prefix = 'saved_pcs/1_frames_individual/fr'\n",
    "suffix = '.pdb'\n",
    "\n",
    "nobs = len(frames)\n",
    "npcs = len(pcs)\n",
    "ncpus = 24\n",
    "\n",
    "def worker(start, end, sa1):\n",
    "    for a in range(start,end):\n",
    "        coords = protein.load_pdb(f'{prefix}{frames[a]}{suffix}')\n",
    "        parsed = coords.parse(pcs)\n",
    "        mstart = metal.Metal()\n",
    "        mstart.position = coords[0]['A'][195]['CA'].position\n",
    "        [guess], [data] = fit.svd_gridsearch_fit_metal_from_pcs([mstart], [parsed], \n",
    "                                                                radius=10, points=10, verbose=False)\n",
    "        [mfit], [data] = fit.nlr_fit_metal_from_pcs([guess], [parsed])\n",
    "        #\n",
    "        sa1[a*npcs:(a+1)*npcs] = data['cal']\n",
    "        #\n",
    "\n",
    "if __name__ == '__main__':\n",
    "    starts, ends = get_ranges(nobs, ncpus)\n",
    "    #\n",
    "    sa1 = multiprocessing.Array('d', nobs*len(pcs))\n",
    "    #\n",
    "    processes = []\n",
    "    for job in range(ncpus):\n",
    "        p = multiprocessing.Process(target=worker, \n",
    "                                    args=(starts[job], ends[job], sa1),\n",
    "                                   )\n",
    "        processes.append(p)\n",
    "        p.start()\n",
    "    #\n",
    "    for p in processes:\n",
    "        p.join()\n",
    "    #\n",
    "    cal = np.frombuffer(sa1.get_obj())\n",
    "    \n",
    "means = cal.reshape(nobs,npcs)\n",
    "stds = np.mean(np.square(means), axis=0)\n",
    "means = np.mean(means, axis=0)\n",
    "stds = stds - np.square(means)"
   ]
  },
  {
   "cell_type": "code",
   "execution_count": 31,
   "id": "2c3ca4c3",
   "metadata": {},
   "outputs": [],
   "source": [
    "np.save('saved_pcs/2_output_files/means_with_pdx.npy', means)\n",
    "np.save('saved_pcs/2_output_files/stds_with_pdx.npy', stds)"
   ]
  },
  {
   "cell_type": "code",
   "execution_count": 32,
   "id": "ed111599",
   "metadata": {},
   "outputs": [
    {
     "data": {
      "text/plain": [
       "[<matplotlib.lines.Line2D at 0x2ac58d7568e0>]"
      ]
     },
     "execution_count": 32,
     "metadata": {},
     "output_type": "execute_result"
    },
    {
     "data": {
      "image/png": "[encoded data removed]",
      "text/plain": [
       "<Figure size 432x288 with 1 Axes>"
      ]
     },
     "metadata": {
      "needs_background": "light"
     },
     "output_type": "display_data"
    }
   ],
   "source": [
    "plt.scatter(np.array(list(pcs.values()))[:,0], means)\n",
    "plt.plot([-0.1,0.2], [-0.1,0.2])"
   ]
  },
  {
   "cell_type": "code",
   "execution_count": null,
   "id": "21e14319",
   "metadata": {},
   "outputs": [],
   "source": []
  },
  {
   "cell_type": "code",
   "execution_count": null,
   "id": "2d5ae7d8",
   "metadata": {},
   "outputs": [],
   "source": []
  },
  {
   "cell_type": "code",
   "execution_count": null,
   "id": "3ecf2877",
   "metadata": {},
   "outputs": [],
   "source": []
  },
  {
   "cell_type": "code",
   "execution_count": null,
   "id": "6bd01214",
   "metadata": {},
   "outputs": [],
   "source": []
  },
  {
   "cell_type": "code",
   "execution_count": null,
   "id": "20b4f1f3",
   "metadata": {},
   "outputs": [],
   "source": []
  },
  {
   "cell_type": "code",
   "execution_count": null,
   "id": "56d34405",
   "metadata": {},
   "outputs": [],
   "source": []
  }
 ],
 "metadata": {
  "kernelspec": {
   "display_name": "Python 3 (ipykernel)",
   "language": "python",
   "name": "python3"
  },
  "language_info": {
   "codemirror_mode": {
    "name": "ipython",
    "version": 3
   },
   "file_extension": ".py",
   "mimetype": "text/x-python",
   "name": "python",
   "nbconvert_exporter": "python",
   "pygments_lexer": "ipython3",
   "version": "3.9.7"
  }
 },
 "nbformat": 4,
 "nbformat_minor": 5
}
