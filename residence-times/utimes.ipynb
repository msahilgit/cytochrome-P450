{
 "cells": [
  {
   "cell_type": "code",
   "execution_count": 1,
   "id": "73b78294",
   "metadata": {},
   "outputs": [],
   "source": [
    "import numpy as np\n",
    "import matplotlib as mt\n",
    "import matplotlib.pyplot as plt\n",
    "from matplotlib.ticker import AutoMinorLocator, MaxNLocator\n",
    "import copy\n",
    "from scipy.optimize import curve_fit as cf\n",
    "import scipy.stats as sct"
   ]
  },
  {
   "cell_type": "code",
   "execution_count": null,
   "id": "9ce1adb1",
   "metadata": {},
   "outputs": [],
   "source": []
  },
  {
   "cell_type": "code",
   "execution_count": 2,
   "id": "8b7962fc",
   "metadata": {},
   "outputs": [],
   "source": [
    "def func(x,t):\n",
    "    return 1 - np.exp(-x/t)"
   ]
  },
  {
   "cell_type": "code",
   "execution_count": 3,
   "id": "26cf9c92",
   "metadata": {},
   "outputs": [],
   "source": [
    "def ecdf1(d):\n",
    "    x=np.sort(d)\n",
    "    n=x.size\n",
    "    y=np.arange(1,n+1)/n\n",
    "    return (x,y)"
   ]
  },
  {
   "cell_type": "code",
   "execution_count": 4,
   "id": "77798895",
   "metadata": {},
   "outputs": [],
   "source": [
    "def ecdf2(d):\n",
    "    x=np.sort(d)\n",
    "    n=x.size\n",
    "    xx=[0]\n",
    "    yy=[0]\n",
    "    for i in range(len(x)):\n",
    "        yy.append(i/n)\n",
    "        yy.append((i+1)/n)\n",
    "        xx.append(x[i])\n",
    "        xx.append(x[i])\n",
    "    xx.insert(len(xx),xx[-1]+(xx[-1]-xx[-3]))\n",
    "    yy.insert(len(yy),1)\n",
    "    xx=np.array(xx)\n",
    "    yy=np.array(yy)\n",
    "    return (xx,yy)"
   ]
  },
  {
   "cell_type": "code",
   "execution_count": 5,
   "id": "c70159de",
   "metadata": {},
   "outputs": [],
   "source": [
    "def bootstrap(times, niter=100, test_size=0.3, rstate=0, pcut=0.05):\n",
    "    \n",
    "    np.random.seed(rstate)\n",
    "    fitted = np.zeros((niter))\n",
    "    \n",
    "    count=0\n",
    "    fit_size = int((1-test_size)*len(times))\n",
    "    \n",
    "    while count < niter:\n",
    "        ftimes = np.random.choice(times, fit_size)\n",
    "        \n",
    "        xx, yy = ecdf1(ftimes)\n",
    "        tau = cf(func, xx, yy)[0][0]\n",
    "        \n",
    "        fyy = func(xx, tau)\n",
    "        ks = sct.ks_2samp(fyy, yy)[1]\n",
    "        \n",
    "        if ks >= pcut:\n",
    "            fitted[count] = tau\n",
    "            count += 1\n",
    "            \n",
    "    return fitted"
   ]
  },
  {
   "cell_type": "code",
   "execution_count": null,
   "id": "f59fa8d6",
   "metadata": {},
   "outputs": [],
   "source": []
  },
  {
   "cell_type": "code",
   "execution_count": null,
   "id": "5e17007f",
   "metadata": {},
   "outputs": [],
   "source": []
  },
  {
   "cell_type": "markdown",
   "id": "0ba77016",
   "metadata": {},
   "source": [
    "## t217v"
   ]
  },
  {
   "cell_type": "code",
   "execution_count": 6,
   "id": "ac38bd17",
   "metadata": {},
   "outputs": [
    {
     "data": {
      "text/plain": [
       "(16.107926998312983, KstestResult(statistic=0.16, pvalue=0.5486851446031328))"
      ]
     },
     "execution_count": 6,
     "metadata": {},
     "output_type": "execute_result"
    }
   ],
   "source": [
    "t217v_utimes = np.loadtxt('files_for_unbiased_times/unbiased-times-t217v-allo-apo.txt')\n",
    "\n",
    "t217v_x1, t217v_y1 = ecdf1(t217v_utimes)\n",
    "t217v_fitted_tau = cf(func, t217v_x1, t217v_y1)[0][0]\n",
    "\n",
    "t217v_fitted_y = func(t217v_x1, t217v_fitted_tau)\n",
    "\n",
    "t217v_ks = sct.ks_2samp(t217v_fitted_y, t217v_y1)\n",
    "\n",
    "t217v_fitted_tau, t217v_ks"
   ]
  },
  {
   "cell_type": "code",
   "execution_count": 18,
   "id": "e4ea4e43",
   "metadata": {},
   "outputs": [
    {
     "name": "stderr",
     "output_type": "stream",
     "text": [
      "/tmp/ipykernel_47054/4221098991.py:8: UserWarning: Attempted to set non-positive bottom ylim on a log-scaled axis.\n",
      "Invalid limit will be ignored.\n",
      "  ax.set_ylim(0,)\n"
     ]
    },
    {
     "data": {
      "image/png": "[encoded data removed]",
      "text/plain": [
       "<Figure size 720x288 with 1 Axes>"
      ]
     },
     "metadata": {
      "needs_background": "light"
     },
     "output_type": "display_data"
    }
   ],
   "source": [
    "curve = t217v_utimes\n",
    "oname='raw_times_t217v'\n",
    "#\n",
    "fig,ax=plt.subplots(1, figsize=(10,4))\n",
    "ax.bar(range(len(curve)), curve[curve.argsort()], color='crimson', edgecolor='black')\n",
    "ax.set_yscale('log')\n",
    "ax.set_xlim(-1,50)\n",
    "ax.set_ylim(0,)\n",
    "ax.spines[:].set_linewidth(2)\n",
    "ax.tick_params(length=9, width=2, labelsize=20)\n",
    "#\n",
    "plt.savefig(f'saved_plots/{oname}.pdf', transparent=True)\n",
    "plt.show()"
   ]
  },
  {
   "cell_type": "code",
   "execution_count": 7,
   "id": "d3c21547",
   "metadata": {},
   "outputs": [],
   "source": [
    "t217v_x2, t217v_y2 = ecdf2(t217v_utimes)"
   ]
  },
  {
   "cell_type": "code",
   "execution_count": 30,
   "id": "770db7e9",
   "metadata": {},
   "outputs": [
    {
     "data": {
      "image/png": "[encoded data removed]",
      "text/plain": [
       "<Figure size 504x288 with 1 Axes>"
      ]
     },
     "metadata": {
      "needs_background": "light"
     },
     "output_type": "display_data"
    }
   ],
   "source": [
    "curve = t217v_utimes\n",
    "oname='fitted_times_t217v'\n",
    "#\n",
    "fig,ax=plt.subplots(1, figsize=(7,4))\n",
    "ax.plot(t217v_x2,t217v_y2, lw=2, color='crimson')\n",
    "ax.plot(t217v_x1, t217v_fitted_y, lw=2, color='black')\n",
    "ax.set_xscale('log')\n",
    "ax.set_ylim(-0.01,1.01)\n",
    "ax.spines[:].set_linewidth(2)\n",
    "ax.tick_params(length=9, width=2, labelsize=20)\n",
    "#\n",
    "plt.savefig(f'saved_plots/{oname}.pdf', transparent=True)\n",
    "plt.show()"
   ]
  },
  {
   "cell_type": "code",
   "execution_count": null,
   "id": "723d7955",
   "metadata": {},
   "outputs": [],
   "source": []
  },
  {
   "cell_type": "code",
   "execution_count": null,
   "id": "0a8e3c21",
   "metadata": {},
   "outputs": [],
   "source": []
  },
  {
   "cell_type": "code",
   "execution_count": null,
   "id": "82e8b9a2",
   "metadata": {},
   "outputs": [],
   "source": []
  },
  {
   "cell_type": "markdown",
   "id": "da455bbd",
   "metadata": {},
   "source": [
    "## l166a"
   ]
  },
  {
   "cell_type": "code",
   "execution_count": 8,
   "id": "e78f7262",
   "metadata": {
    "scrolled": true
   },
   "outputs": [
    {
     "data": {
      "text/plain": [
       "(0.17156765669984333,\n",
       " KstestResult(statistic=0.07017543859649122, pvalue=0.9991935374745595))"
      ]
     },
     "execution_count": 8,
     "metadata": {},
     "output_type": "execute_result"
    }
   ],
   "source": [
    "l166a_utimes = np.loadtxt('files_for_unbiased_times/unbiased-times-l166a.txt')\n",
    "\n",
    "l166a_x1, l166a_y1 = ecdf1(l166a_utimes)\n",
    "l166a_fitted_tau = cf(func, l166a_x1, l166a_y1)[0][0]\n",
    "\n",
    "l166a_fitted_y = func(l166a_x1, l166a_fitted_tau)\n",
    "\n",
    "l166a_ks = sct.ks_2samp(l166a_fitted_y, l166a_y1)\n",
    "\n",
    "l166a_fitted_tau, l166a_ks"
   ]
  },
  {
   "cell_type": "code",
   "execution_count": 27,
   "id": "e52e02fa",
   "metadata": {},
   "outputs": [
    {
     "name": "stderr",
     "output_type": "stream",
     "text": [
      "/tmp/ipykernel_47054/2659175642.py:8: UserWarning: Attempted to set non-positive bottom ylim on a log-scaled axis.\n",
      "Invalid limit will be ignored.\n",
      "  ax.set_ylim(0,)\n"
     ]
    },
    {
     "data": {
      "image/png": "[encoded data removed]",
      "text/plain": [
       "<Figure size 720x288 with 1 Axes>"
      ]
     },
     "metadata": {
      "needs_background": "light"
     },
     "output_type": "display_data"
    }
   ],
   "source": [
    "curve = l166a_utimes\n",
    "oname='raw_times_l166a'\n",
    "#\n",
    "fig,ax=plt.subplots(1, figsize=(10,4))\n",
    "ax.bar(range(len(curve)), curve[curve.argsort()], color='crimson', edgecolor='black')\n",
    "ax.set_yscale('log')\n",
    "ax.set_xlim(-1,57)\n",
    "ax.set_ylim(0,)\n",
    "ax.spines[:].set_linewidth(2)\n",
    "ax.tick_params(length=9, width=2, labelsize=20)\n",
    "#\n",
    "plt.savefig(f'saved_plots/{oname}.pdf', transparent=True)\n",
    "plt.show()"
   ]
  },
  {
   "cell_type": "code",
   "execution_count": 9,
   "id": "625d7c2d",
   "metadata": {},
   "outputs": [],
   "source": [
    "l166a_x2, l166a_y2 = ecdf2(l166a_utimes)"
   ]
  },
  {
   "cell_type": "code",
   "execution_count": 31,
   "id": "c37a049d",
   "metadata": {},
   "outputs": [
    {
     "data": {
      "image/png": "[encoded data removed]",
      "text/plain": [
       "<Figure size 504x288 with 1 Axes>"
      ]
     },
     "metadata": {
      "needs_background": "light"
     },
     "output_type": "display_data"
    }
   ],
   "source": [
    "curve = l166a_utimes\n",
    "oname='fitted_times_l166a'\n",
    "#\n",
    "fig,ax=plt.subplots(1, figsize=(7,4))\n",
    "ax.plot(l166a_x2,l166a_y2, lw=2, color='crimson')\n",
    "ax.plot(l166a_x1, l166a_fitted_y, lw=2, color='black')\n",
    "ax.set_xscale('log')\n",
    "ax.set_ylim(-0.01,1.01)\n",
    "ax.spines[:].set_linewidth(2)\n",
    "ax.tick_params(length=9, width=2, labelsize=20)\n",
    "#\n",
    "plt.savefig(f'saved_plots/{oname}.pdf', transparent=True)\n",
    "plt.show()"
   ]
  },
  {
   "cell_type": "code",
   "execution_count": null,
   "id": "eaf1b21a",
   "metadata": {},
   "outputs": [],
   "source": []
  },
  {
   "cell_type": "code",
   "execution_count": null,
   "id": "a9aa492e",
   "metadata": {},
   "outputs": [],
   "source": []
  },
  {
   "cell_type": "markdown",
   "id": "a6b5ed12",
   "metadata": {},
   "source": [
    "## f163a allo-both"
   ]
  },
  {
   "cell_type": "code",
   "execution_count": 10,
   "id": "5638b073",
   "metadata": {},
   "outputs": [
    {
     "data": {
      "text/plain": [
       "(12.384844260698046, KstestResult(statistic=0.16, pvalue=0.5486851446031328))"
      ]
     },
     "execution_count": 10,
     "metadata": {},
     "output_type": "execute_result"
    }
   ],
   "source": [
    "f163a_utimes = np.loadtxt('files_for_unbiased_times/unbiased-times-f163-allo-both.txt')\n",
    "\n",
    "f163a_x1, f163a_y1 = ecdf1(f163a_utimes)\n",
    "f163a_fitted_tau = cf(func, f163a_x1, f163a_y1)[0][0]\n",
    "\n",
    "f163a_fitted_y = func(f163a_x1, f163a_fitted_tau)\n",
    "\n",
    "f163a_ks = sct.ks_2samp(f163a_fitted_y, f163a_y1)\n",
    "\n",
    "f163a_fitted_tau, f163a_ks"
   ]
  },
  {
   "cell_type": "code",
   "execution_count": 15,
   "id": "4675124c",
   "metadata": {},
   "outputs": [
    {
     "data": {
      "image/png": "[encoded data removed]",
      "text/plain": [
       "<Figure size 432x288 with 1 Axes>"
      ]
     },
     "metadata": {
      "needs_background": "light"
     },
     "output_type": "display_data"
    }
   ],
   "source": [
    "fig,ax=plt.subplots()\n",
    "ax.bar(range(len(f163a_utimes)), f163a_utimes[f163a_utimes.argsort()])\n",
    "ax.set_yscale('log')\n",
    "plt.show()"
   ]
  },
  {
   "cell_type": "code",
   "execution_count": 11,
   "id": "08ad077b",
   "metadata": {},
   "outputs": [],
   "source": [
    "f163a_x2, f163a_y2 = ecdf2(f163a_utimes)"
   ]
  },
  {
   "cell_type": "code",
   "execution_count": 17,
   "id": "3350e1a3",
   "metadata": {},
   "outputs": [
    {
     "data": {
      "image/png": "[encoded data removed]",
      "text/plain": [
       "<Figure size 432x288 with 1 Axes>"
      ]
     },
     "metadata": {
      "needs_background": "light"
     },
     "output_type": "display_data"
    }
   ],
   "source": [
    "plt.plot(f163a_x2,f163a_y2)\n",
    "plt.plot(f163a_x1, f163a_fitted_y)\n",
    "plt.xscale('log')"
   ]
  },
  {
   "cell_type": "code",
   "execution_count": null,
   "id": "a3ca8366",
   "metadata": {},
   "outputs": [],
   "source": []
  },
  {
   "cell_type": "markdown",
   "id": "327f3e48",
   "metadata": {},
   "source": [
    "## f163a allo-bound"
   ]
  },
  {
   "cell_type": "code",
   "execution_count": 12,
   "id": "4a8cde86",
   "metadata": {},
   "outputs": [
    {
     "data": {
      "text/plain": [
       "(13.116336880038562, KstestResult(statistic=0.22, pvalue=0.17858668181221732))"
      ]
     },
     "execution_count": 12,
     "metadata": {},
     "output_type": "execute_result"
    }
   ],
   "source": [
    "f163a_utimes = np.loadtxt('files_for_unbiased_times/unbiased-times-f163-allo-bound.txt')\n",
    "\n",
    "f163a_x1, f163a_y1 = ecdf1(f163a_utimes)\n",
    "f163a_fitted_tau = cf(func, f163a_x1, f163a_y1)[0][0]\n",
    "\n",
    "f163a_fitted_y = func(f163a_x1, f163a_fitted_tau)\n",
    "\n",
    "f163a_ks = sct.ks_2samp(f163a_fitted_y, f163a_y1)\n",
    "\n",
    "f163a_fitted_tau, f163a_ks"
   ]
  },
  {
   "cell_type": "code",
   "execution_count": 35,
   "id": "eb9d1b92",
   "metadata": {},
   "outputs": [
    {
     "name": "stderr",
     "output_type": "stream",
     "text": [
      "/tmp/ipykernel_47054/266435079.py:8: UserWarning: Attempted to set non-positive bottom ylim on a log-scaled axis.\n",
      "Invalid limit will be ignored.\n",
      "  ax.set_ylim(0,)\n"
     ]
    },
    {
     "data": {
      "image/png": "[encoded data removed]",
      "text/plain": [
       "<Figure size 720x288 with 1 Axes>"
      ]
     },
     "metadata": {
      "needs_background": "light"
     },
     "output_type": "display_data"
    }
   ],
   "source": [
    "curve = f163a_utimes\n",
    "oname='raw_times_lf163a'\n",
    "#\n",
    "fig,ax=plt.subplots(1, figsize=(10,4))\n",
    "ax.bar(range(len(curve)), curve[curve.argsort()], color='crimson', edgecolor='black')\n",
    "ax.set_yscale('log')\n",
    "ax.set_xlim(-1,50)\n",
    "ax.set_ylim(0,)\n",
    "ax.spines[:].set_linewidth(2)\n",
    "ax.tick_params(length=9, width=2, labelsize=20)\n",
    "#\n",
    "plt.savefig(f'saved_plots/{oname}.pdf', transparent=True)\n",
    "plt.show()"
   ]
  },
  {
   "cell_type": "code",
   "execution_count": 13,
   "id": "116ea80c",
   "metadata": {},
   "outputs": [],
   "source": [
    "f163a_x2, f163a_y2 = ecdf2(f163a_utimes)"
   ]
  },
  {
   "cell_type": "code",
   "execution_count": 37,
   "id": "d2450b5c",
   "metadata": {},
   "outputs": [
    {
     "data": {
      "image/png": "[encoded data removed]",
      "text/plain": [
       "<Figure size 504x288 with 1 Axes>"
      ]
     },
     "metadata": {
      "needs_background": "light"
     },
     "output_type": "display_data"
    }
   ],
   "source": [
    "curve = f163a_utimes\n",
    "oname='fitted_times_f163a'\n",
    "#\n",
    "fig,ax=plt.subplots(1, figsize=(7,4))\n",
    "ax.plot(f163a_x2,f163a_y2, lw=2, color='crimson')\n",
    "ax.plot(f163a_x1, f163a_fitted_y, lw=2, color='black')\n",
    "ax.set_xscale('log')\n",
    "ax.set_ylim(-0.01,1.01)\n",
    "ax.spines[:].set_linewidth(2)\n",
    "ax.tick_params(length=9, width=2, labelsize=20)\n",
    "#\n",
    "plt.savefig(f'saved_plots/{oname}.pdf', transparent=True)\n",
    "plt.show()"
   ]
  },
  {
   "cell_type": "code",
   "execution_count": null,
   "id": "baefe09a",
   "metadata": {},
   "outputs": [],
   "source": []
  },
  {
   "cell_type": "code",
   "execution_count": null,
   "id": "f8e451e3",
   "metadata": {},
   "outputs": [],
   "source": []
  },
  {
   "cell_type": "code",
   "execution_count": 14,
   "id": "40788096",
   "metadata": {},
   "outputs": [],
   "source": [
    "data = [l166a_utimes, f163a_utimes, t217v_utimes]\n",
    "data = [bootstrap(d) for d in data]\n",
    "data = np.mean(data, axis=1), np.std(data, axis=1)"
   ]
  },
  {
   "cell_type": "code",
   "execution_count": 73,
   "id": "cef7163a",
   "metadata": {},
   "outputs": [
    {
     "data": {
      "image/png": "[encoded data removed]",
      "text/plain": [
       "<Figure size 432x288 with 1 Axes>"
      ]
     },
     "metadata": {
      "needs_background": "light"
     },
     "output_type": "display_data"
    }
   ],
   "source": [
    "fig,ax=plt.subplots(1, figsize=(6,4))\n",
    "ax.bar(range(3), data[0]+1, bottom=-1, yerr=data[1], color='crimson', edgecolor='black', capsize=10)\n",
    "ax.plot([-0.5,2.5],[14.1,14.1], '--', lw=2, color='black')\n",
    "ax.set_xlim(-0.5,2.5)\n",
    "ax.set_ylim(-1,)\n",
    "ax.spines[['top','right']].set_visible(False)\n",
    "ax.spines[['bottom', 'left']].set_linewidth(2)\n",
    "ax.tick_params(length=7, width=2, labelsize=20, labelbottom=False)\n",
    "# #\n",
    "plt.savefig(f'saved_plots/residence_times.pdf', transparent=True)\n",
    "plt.show()"
   ]
  },
  {
   "cell_type": "code",
   "execution_count": null,
   "id": "0512f983",
   "metadata": {},
   "outputs": [],
   "source": []
  },
  {
   "cell_type": "code",
   "execution_count": 15,
   "id": "d73682eb",
   "metadata": {},
   "outputs": [
    {
     "data": {
      "text/plain": [
       "(array([ 0.16756138, 14.41994333, 16.4705231 ]),\n",
       " array([0.02636999, 6.77854019, 4.72783395]))"
      ]
     },
     "execution_count": 15,
     "metadata": {},
     "output_type": "execute_result"
    }
   ],
   "source": [
    "data"
   ]
  }
 ],
 "metadata": {
  "kernelspec": {
   "display_name": "Python 3 (ipykernel)",
   "language": "python",
   "name": "python3"
  },
  "language_info": {
   "codemirror_mode": {
    "name": "ipython",
    "version": 3
   },
   "file_extension": ".py",
   "mimetype": "text/x-python",
   "name": "python",
   "nbconvert_exporter": "python",
   "pygments_lexer": "ipython3",
   "version": "3.9.7"
  }
 },
 "nbformat": 4,
 "nbformat_minor": 5
}
